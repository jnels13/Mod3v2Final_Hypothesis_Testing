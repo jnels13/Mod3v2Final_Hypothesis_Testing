{
 "cells": [
  {
   "cell_type": "markdown",
   "metadata": {},
   "source": [
    "## Analysis on the Effectiveness of Northwind's Discount Program\n",
    "#### Hypothesis Testing   //   V2/Mod3 Final   //   Joe Nelson"
   ]
  },
  {
   "cell_type": "markdown",
   "metadata": {},
   "source": [
    "### We were asked to provide insight on the following questions regarding Northwind's Discount Program:\n",
    "\n",
    "**_Does discount amount have a statistically significant effect on the quantity of a product in an order? If so, at what level(s) of discount?_**\n",
    "\n",
    "**_Do orders that include discounts generate more revenue than those without?_**\n",
    "\n",
    "**_Do customers who order discounted items have a statistically significant higher re-order rate than customers who do not order discounted items?_** \n",
    "\n",
    "**_Does the region of Northwind customers have a statistically significant effect on quantities ordered?_**\n",
    "\n",
    "Alpha used across all hypotheses is .05. "
   ]
  },
  {
   "cell_type": "code",
   "execution_count": 1,
   "metadata": {},
   "outputs": [],
   "source": [
    "# Import necessary libraries \n",
    "import sqlite3 \n",
    "import pandas as pd\n",
    "import numpy as np\n",
    "import scipy.stats as stats \n",
    "from statistics import mean, stdev\n",
    "from math import sqrt\n",
    "import statsmodels.api as sm \n",
    "from statsmodels.formula.api import ols \n",
    "from statsmodels.stats.multicomp import (pairwise_tukeyhsd,\n",
    "                                         MultiComparison)\n",
    "import matplotlib.pyplot as plt\n",
    "import seaborn as sns\n",
    "%matplotlib inline\n",
    "\n",
    "conn = sqlite3.connect('Northwind_small.sqlite')   \n",
    "cur = conn.cursor() "
   ]
  },
  {
   "cell_type": "markdown",
   "metadata": {},
   "source": [
    "## Question 1: Does discount amount have a statistically significant effect on the quantity of a product in an order? If so, at what level(s) of discount?"
   ]
  },
  {
   "cell_type": "code",
   "execution_count": 2,
   "metadata": {},
   "outputs": [
    {
     "data": {
      "text/html": [
       "<div>\n",
       "<style scoped>\n",
       "    .dataframe tbody tr th:only-of-type {\n",
       "        vertical-align: middle;\n",
       "    }\n",
       "\n",
       "    .dataframe tbody tr th {\n",
       "        vertical-align: top;\n",
       "    }\n",
       "\n",
       "    .dataframe thead th {\n",
       "        text-align: right;\n",
       "    }\n",
       "</style>\n",
       "<table border=\"1\" class=\"dataframe\">\n",
       "  <thead>\n",
       "    <tr style=\"text-align: right;\">\n",
       "      <th></th>\n",
       "      <th>Quantity</th>\n",
       "      <th>Discount</th>\n",
       "    </tr>\n",
       "  </thead>\n",
       "  <tbody>\n",
       "    <tr>\n",
       "      <td>0</td>\n",
       "      <td>12</td>\n",
       "      <td>0.0</td>\n",
       "    </tr>\n",
       "    <tr>\n",
       "      <td>1</td>\n",
       "      <td>10</td>\n",
       "      <td>0.0</td>\n",
       "    </tr>\n",
       "    <tr>\n",
       "      <td>2</td>\n",
       "      <td>5</td>\n",
       "      <td>0.0</td>\n",
       "    </tr>\n",
       "    <tr>\n",
       "      <td>3</td>\n",
       "      <td>9</td>\n",
       "      <td>0.0</td>\n",
       "    </tr>\n",
       "    <tr>\n",
       "      <td>4</td>\n",
       "      <td>40</td>\n",
       "      <td>0.0</td>\n",
       "    </tr>\n",
       "  </tbody>\n",
       "</table>\n",
       "</div>"
      ],
      "text/plain": [
       "   Quantity  Discount\n",
       "0        12       0.0\n",
       "1        10       0.0\n",
       "2         5       0.0\n",
       "3         9       0.0\n",
       "4        40       0.0"
      ]
     },
     "execution_count": 2,
     "metadata": {},
     "output_type": "execute_result"
    }
   ],
   "source": [
    "# Select relevant data\n",
    "cur.execute(\"\"\"\n",
    "    SELECT Quantity, Discount\n",
    "    FROM OrderDetail; \n",
    "    \"\"\")\n",
    "\n",
    "df = pd.DataFrame(cur.fetchall()) \n",
    "df.columns = [x[0] for x in cur.description] \n",
    "df.head(5)"
   ]
  },
  {
   "cell_type": "code",
   "execution_count": 3,
   "metadata": {},
   "outputs": [
    {
     "data": {
      "text/html": [
       "<div>\n",
       "<style scoped>\n",
       "    .dataframe tbody tr th:only-of-type {\n",
       "        vertical-align: middle;\n",
       "    }\n",
       "\n",
       "    .dataframe tbody tr th {\n",
       "        vertical-align: top;\n",
       "    }\n",
       "\n",
       "    .dataframe thead th {\n",
       "        text-align: right;\n",
       "    }\n",
       "</style>\n",
       "<table border=\"1\" class=\"dataframe\">\n",
       "  <thead>\n",
       "    <tr style=\"text-align: right;\">\n",
       "      <th></th>\n",
       "      <th>Quantity</th>\n",
       "    </tr>\n",
       "    <tr>\n",
       "      <th>Discount</th>\n",
       "      <th></th>\n",
       "    </tr>\n",
       "  </thead>\n",
       "  <tbody>\n",
       "    <tr>\n",
       "      <td>0.00</td>\n",
       "      <td>1317</td>\n",
       "    </tr>\n",
       "    <tr>\n",
       "      <td>0.01</td>\n",
       "      <td>1</td>\n",
       "    </tr>\n",
       "    <tr>\n",
       "      <td>0.02</td>\n",
       "      <td>2</td>\n",
       "    </tr>\n",
       "    <tr>\n",
       "      <td>0.03</td>\n",
       "      <td>3</td>\n",
       "    </tr>\n",
       "    <tr>\n",
       "      <td>0.04</td>\n",
       "      <td>1</td>\n",
       "    </tr>\n",
       "    <tr>\n",
       "      <td>0.05</td>\n",
       "      <td>185</td>\n",
       "    </tr>\n",
       "    <tr>\n",
       "      <td>0.06</td>\n",
       "      <td>1</td>\n",
       "    </tr>\n",
       "    <tr>\n",
       "      <td>0.10</td>\n",
       "      <td>173</td>\n",
       "    </tr>\n",
       "    <tr>\n",
       "      <td>0.15</td>\n",
       "      <td>157</td>\n",
       "    </tr>\n",
       "    <tr>\n",
       "      <td>0.20</td>\n",
       "      <td>161</td>\n",
       "    </tr>\n",
       "    <tr>\n",
       "      <td>0.25</td>\n",
       "      <td>154</td>\n",
       "    </tr>\n",
       "  </tbody>\n",
       "</table>\n",
       "</div>"
      ],
      "text/plain": [
       "          Quantity\n",
       "Discount          \n",
       "0.00          1317\n",
       "0.01             1\n",
       "0.02             2\n",
       "0.03             3\n",
       "0.04             1\n",
       "0.05           185\n",
       "0.06             1\n",
       "0.10           173\n",
       "0.15           157\n",
       "0.20           161\n",
       "0.25           154"
      ]
     },
     "execution_count": 3,
     "metadata": {},
     "output_type": "execute_result"
    }
   ],
   "source": [
    "#Continue reviewing the data\n",
    "df.describe()\n",
    "df.groupby('Discount').count()"
   ]
  },
  {
   "cell_type": "markdown",
   "metadata": {},
   "source": [
    "#### Observed:\n",
    "Discounts range from 1% to 25%, with a mean of 14.4%.  \n",
    "Discounts are applied with 10 unique values: 1%, 2%, 3%, 4%, 5%, 6%, 10%, 15%, 20%, and 25%; the non-multiples of 5% have too few observations to be included; we'll re-create the dataframe with only multiples of 5%."
   ]
  },
  {
   "cell_type": "code",
   "execution_count": 4,
   "metadata": {},
   "outputs": [
    {
     "data": {
      "text/html": [
       "<div>\n",
       "<style scoped>\n",
       "    .dataframe tbody tr th:only-of-type {\n",
       "        vertical-align: middle;\n",
       "    }\n",
       "\n",
       "    .dataframe tbody tr th {\n",
       "        vertical-align: top;\n",
       "    }\n",
       "\n",
       "    .dataframe thead th {\n",
       "        text-align: right;\n",
       "    }\n",
       "</style>\n",
       "<table border=\"1\" class=\"dataframe\">\n",
       "  <thead>\n",
       "    <tr style=\"text-align: right;\">\n",
       "      <th></th>\n",
       "      <th>Quantity</th>\n",
       "    </tr>\n",
       "    <tr>\n",
       "      <th>Discount</th>\n",
       "      <th></th>\n",
       "    </tr>\n",
       "  </thead>\n",
       "  <tbody>\n",
       "    <tr>\n",
       "      <td>0.00</td>\n",
       "      <td>1317</td>\n",
       "    </tr>\n",
       "    <tr>\n",
       "      <td>0.05</td>\n",
       "      <td>185</td>\n",
       "    </tr>\n",
       "    <tr>\n",
       "      <td>0.10</td>\n",
       "      <td>173</td>\n",
       "    </tr>\n",
       "    <tr>\n",
       "      <td>0.15</td>\n",
       "      <td>157</td>\n",
       "    </tr>\n",
       "    <tr>\n",
       "      <td>0.20</td>\n",
       "      <td>161</td>\n",
       "    </tr>\n",
       "    <tr>\n",
       "      <td>0.25</td>\n",
       "      <td>154</td>\n",
       "    </tr>\n",
       "  </tbody>\n",
       "</table>\n",
       "</div>"
      ],
      "text/plain": [
       "          Quantity\n",
       "Discount          \n",
       "0.00          1317\n",
       "0.05           185\n",
       "0.10           173\n",
       "0.15           157\n",
       "0.20           161\n",
       "0.25           154"
      ]
     },
     "execution_count": 4,
     "metadata": {},
     "output_type": "execute_result"
    }
   ],
   "source": [
    "cur.execute(\"\"\"\n",
    "    SELECT Quantity, Discount\n",
    "    FROM OrderDetail\n",
    "    WHERE (Discount = 0) or (Discount = .05) or (Discount = 0.1) or (Discount = 0.15) or (Discount = 0.2) \n",
    "    or (Discount = 0.25); \n",
    "    \"\"\")\n",
    "\n",
    "df = pd.DataFrame(cur.fetchall()) \n",
    "df.columns = [x[0] for x in cur.description] \n",
    "df.groupby('Discount').count()"
   ]
  },
  {
   "cell_type": "markdown",
   "metadata": {},
   "source": [
    "## Question 1.1: Does Discount have a statistically significant affect on the quantity of a product in an order?\n",
    "\n",
    "Ho: Discounts do not have a statistically significant effect on quantity ordered.\n",
    "<br>Ha: Discounts have a statistically significant effect on the quantity ordered."
   ]
  },
  {
   "cell_type": "code",
   "execution_count": 5,
   "metadata": {},
   "outputs": [],
   "source": [
    "df_nodisc = df.loc[df ['Discount'] == 0.0,['Quantity']] \n",
    "df_yesdisc = df.loc[df['Discount'] > 0.0, ['Quantity']]"
   ]
  },
  {
   "cell_type": "code",
   "execution_count": 6,
   "metadata": {},
   "outputs": [
    {
     "data": {
      "image/png": "[encoded data removed]",
      "text/plain": [
       "<Figure size 864x432 with 1 Axes>"
      ]
     },
     "metadata": {
      "needs_background": "light"
     },
     "output_type": "display_data"
    }
   ],
   "source": [
    "#Review distributions of each sample:\n",
    "fig, ax = plt.subplots(figsize=(12,6))\n",
    "sns.distplot(df_nodisc, color='r', label=\"No Discount Q's\", ax=ax) \n",
    "sns.distplot(df_yesdisc, color = 'b', label = \"Discount Q's\")\n",
    "plt.title('Distributions of Quantities Ordered, Discounted vs. NonDiscounted')\n",
    "plt.legend() \n",
    "plt.show() "
   ]
  },
  {
   "cell_type": "code",
   "execution_count": 7,
   "metadata": {},
   "outputs": [
    {
     "name": "stdout",
     "output_type": "stream",
     "text": [
      "Variance of Nondiscounted Sample:  Quantity    306.28\n",
      "dtype: float64 \n",
      "Variance of Discounted Sample:  Quantity    428.83\n",
      "dtype: float64\n"
     ]
    }
   ],
   "source": [
    "nodisc_var = np.var(df_nodisc)\n",
    "yesdisc_var = np.var(df_yesdisc)\n",
    "print('Variance of Nondiscounted Sample: ',round(nodisc_var,2),\n",
    "      '\\nVariance of Discounted Sample: ',round(yesdisc_var,2))"
   ]
  },
  {
   "cell_type": "markdown",
   "metadata": {},
   "source": [
    "__Observed:__ The samples are skewed to the right and variances are not similar (they're more than 33% apart). Because the sample sizes are large (838 and 1317), Welch's T-test would the appropriate test.  "
   ]
  },
  {
   "cell_type": "code",
   "execution_count": 8,
   "metadata": {},
   "outputs": [],
   "source": [
    "#Welch's T-Test Function; determine T-statistic and Degrees of Freedom\n",
    "\n",
    "def welch_t(a, b):   #FIRST GET T-STATISTIC \n",
    "    numerator = np.mean(a) - np.mean(b) \n",
    "    denominator = np.sqrt(a.var(ddof=1)/a.size + b.var(ddof=1)/b.size)    \n",
    "    return abs(numerator/denominator) \n",
    "def welch_df(a, b):  #THEN GET EFFECTIVE DEGREES OF FREEDOM \n",
    "    s1 = a.var(ddof=1) \n",
    "    s2 = b.var(ddof=1) \n",
    "    n1 = a.size \n",
    "    n2 = b.size \n",
    "    numerator = (s1/n1 + s2/n2)**2 \n",
    "    denominator = (s1/n1)**2/(n1-1) + (s2/n2)**2/(n2-1) \n",
    "    return abs(numerator/denominator) \n",
    "def p_value(a, b, two_sided=False): \n",
    "    t = welch_t(a,b) \n",
    "    df = welch_df(a,b) \n",
    "    p = 1 - stats.t.cdf(t, df) \n",
    "    if two_sided == True: \n",
    "        return p*2 \n",
    "    else: \n",
    "        return p "
   ]
  },
  {
   "cell_type": "code",
   "execution_count": 9,
   "metadata": {},
   "outputs": [
    {
     "name": "stdout",
     "output_type": "stream",
     "text": [
      "P-value is:  [5.02562436e-11]\n"
     ]
    }
   ],
   "source": [
    "print('P-value is: ',p_value(df_nodisc, df_yesdisc))"
   ]
  },
  {
   "cell_type": "markdown",
   "metadata": {},
   "source": [
    "__Conclusion:__ Because the p-value is below .05, we can reject the null hypothesis that there's no difference between the sample means. <br>The question now becomes at what level of discount is there a statistically significant effect on quantity ordered. \n",
    "\n",
    "## Question 1.2: Which levels of discount have a statistically significant affect on the quantity of a product in an order?\n",
    "\n",
    "Ho: Discount level (i) does not have a statistically significant effect on quantity ordered.\n",
    "<br>Ha: Discount level (i) has a statistically significant effect on the quantity ordered."
   ]
  },
  {
   "cell_type": "code",
   "execution_count": 10,
   "metadata": {},
   "outputs": [
    {
     "data": {
      "image/png": "[encoded data removed]",
      "text/plain": [
       "<Figure size 864x432 with 1 Axes>"
      ]
     },
     "metadata": {
      "needs_background": "light"
     },
     "output_type": "display_data"
    }
   ],
   "source": [
    "fig, ax = plt.subplots(figsize=(12,6))\n",
    "sns.boxplot(df.Discount, df.Quantity, ax=ax).set_title(\"Distribution of Quantity Ordered Per Discount Level\")\n",
    "plt.show()"
   ]
  },
  {
   "cell_type": "code",
   "execution_count": 11,
   "metadata": {},
   "outputs": [
    {
     "name": "stdout",
     "output_type": "stream",
     "text": [
      "                    sum_sq      df          F        PR(>F)\n",
      "df.Discount   12621.238965     1.0  35.487951  2.991487e-09\n",
      "Residual     762866.181622  2145.0        NaN           NaN\n"
     ]
    }
   ],
   "source": [
    "formula = 'df.Quantity ~ df.Discount'\n",
    "lm = ols(formula, df).fit() \n",
    "table = sm.stats.anova_lm(lm, typ=2) \n",
    "print(table) "
   ]
  },
  {
   "cell_type": "markdown",
   "metadata": {},
   "source": [
    "__Observed:__ The ANOVA test shows a P value < 0.05, allowing us to reject the null hypothesis (that there's no statistically significant difference between the various samples).  The Tukey HSD test (below) will show *which* samples have a statistically significant difference from the no-discount sample set. "
   ]
  },
  {
   "cell_type": "code",
   "execution_count": 12,
   "metadata": {},
   "outputs": [],
   "source": [
    "MultiComp = MultiComparison(df.Quantity,\n",
    "                            df.Discount)"
   ]
  },
  {
   "cell_type": "code",
   "execution_count": 13,
   "metadata": {},
   "outputs": [
    {
     "name": "stdout",
     "output_type": "stream",
     "text": [
      "Multiple Comparison of Means - Tukey HSD, FWER=0.05 \n",
      "====================================================\n",
      "group1 group2 meandiff p-adj   lower   upper  reject\n",
      "----------------------------------------------------\n",
      "   0.0   0.05   6.2955  0.001  2.0814 10.5097   True\n",
      "   0.0    0.1   3.5217 0.1885 -0.8187  7.8622  False\n",
      "   0.0   0.15   6.6669  0.001  2.1352 11.1986   True\n",
      "   0.0    0.2   5.3096 0.0096  0.8285  9.7907   True\n",
      "   0.0   0.25    6.525  0.001   1.954  11.096   True\n",
      "  0.05    0.1  -2.7738  0.704 -8.4504  2.9028  False\n",
      "  0.05   0.15   0.3714    0.9 -5.4528  6.1955  False\n",
      "  0.05    0.2   -0.986    0.9 -6.7708  4.7989  False\n",
      "  0.05   0.25   0.2294    0.9 -5.6253  6.0842  False\n",
      "   0.1   0.15   3.1452 0.6333  -2.771  9.0613  False\n",
      "   0.1    0.2   1.7879    0.9 -4.0896  7.6653  False\n",
      "   0.1   0.25   3.0033  0.677  -2.943  8.9496  False\n",
      "  0.15    0.2  -1.3573    0.9 -7.3775  4.6628  False\n",
      "  0.15   0.25  -0.1419    0.9 -6.2292  5.9454  False\n",
      "   0.2   0.25   1.2154    0.9 -4.8343  7.2652  False\n",
      "----------------------------------------------------\n"
     ]
    }
   ],
   "source": [
    "results = MultiComp.tukeyhsd()\n",
    "print(results)"
   ]
  },
  {
   "cell_type": "markdown",
   "metadata": {},
   "source": [
    "__Conclusion:__ Using the Tukey HSD test, we can reject the null hypotheses as to the 5, 15, 20, and 25% discount levels, and conclude that **Discounts offer a statisticaly significant effect on quantity at the 5, 15, 20, and 25% levels.**  The 10% discount level has a similar sample size as the first noted set, and was therefore likely rejected to the P-value exceeding the alpha of 0.05.  "
   ]
  },
  {
   "cell_type": "markdown",
   "metadata": {},
   "source": [
    "## Question 1.3: _**How**_ different are quantities ordered of the discounted items from the non-discounted items?\n",
    "\n",
    "We will only review the effect size for the statistically significant discount levels above."
   ]
  },
  {
   "cell_type": "code",
   "execution_count": 14,
   "metadata": {},
   "outputs": [],
   "source": [
    "def cohens_d (c0,c1):\n",
    "    return (abs(mean(c0) - mean(c1)) / (sqrt((stdev(c0) ** 2 + stdev(c1) ** 2) / 2)))"
   ]
  },
  {
   "cell_type": "code",
   "execution_count": 15,
   "metadata": {},
   "outputs": [],
   "source": [
    "# Define the Cohen's d function\n",
    "#def Cohen_d(group1, group2):  \n",
    "#    diff = group1.mean() - group2.mean() \n",
    "#    n1, n2 = len(group1), len(group2) \n",
    "#    var1 = group1.var() \n",
    "#    var2 = group2.var() \n",
    "#    pooled_var = (n1 * var1 + n2 * var2) / (n1 + n2) \n",
    "#    d = diff / np.sqrt(pooled_var) \n",
    "#    return d "
   ]
  },
  {
   "cell_type": "code",
   "execution_count": 16,
   "metadata": {},
   "outputs": [],
   "source": [
    "#Define interpretation of effect size\n",
    "def interpret_cohensd(cohens_d):\n",
    "    if 0<=cohens_d<0.1:\n",
    "        significance = \"very small\"\n",
    "    elif 0.1<=cohens_d<0.35:\n",
    "        return(\"small\")\n",
    "    elif 0.35<=cohens_d<0.65:\n",
    "        return(\"medium\")\n",
    "    elif 0.65<=cohens_d<0.9:\n",
    "        return(\"large\")\n",
    "    elif cohens_d >= 0.9:\n",
    "        return(\"very large\")"
   ]
  },
  {
   "cell_type": "code",
   "execution_count": 17,
   "metadata": {},
   "outputs": [],
   "source": [
    "sig_discount_levels = [0.05,0.15,0.2,0.25]"
   ]
  },
  {
   "cell_type": "code",
   "execution_count": 18,
   "metadata": {},
   "outputs": [
    {
     "name": "stdout",
     "output_type": "stream",
     "text": [
      "\n",
      "At discount level 5.0 %, there is a relatively small effect on quantity ordered. Cohen's d of 0.32\n",
      "\n",
      "At discount level 15.0 %, there is a relatively small effect on quantity ordered. Cohen's d of 0.35\n",
      "\n",
      "At discount level 20.0 %, there is a relatively small effect on quantity ordered. Cohen's d of 0.29\n",
      "\n",
      "At discount level 25.0 %, there is a relatively small effect on quantity ordered. Cohen's d of 0.35\n"
     ]
    }
   ],
   "source": [
    "c0 = df.loc[df['Discount'] == 0.0,['Quantity']] \n",
    "c0 = c0.Quantity.tolist()\n",
    "\n",
    "for level in sig_discount_levels:\n",
    "    c1 = df.loc[df['Discount'] == level, ['Quantity']] \n",
    "    c1 = c1.Quantity.tolist()\n",
    "    d = cohens_d (c0, c1)\n",
    "    significance = interpret_cohensd(d)\n",
    "    print('\\nAt discount level',level*100,'%, there is a relatively',significance,\n",
    "          'effect on quantity ordered. Cohen\\'s d of', round(d,2))\n",
    "    "
   ]
  },
  {
   "cell_type": "markdown",
   "metadata": {},
   "source": [
    "**Conclusion:** Overall, all levels of discounts had the relatively same effect on quantities ordered. "
   ]
  },
  {
   "cell_type": "markdown",
   "metadata": {},
   "source": [
    "## Question 2: Do orders that include discounts generate more revenue than those without?\n",
    "\n",
    "This question will examine whether orders with discounts generate more revenue than those without, on the general assumption that people will buy more of a product when it's cheaper.  \n",
    "\n",
    "Ho = There is no significant difference in revenue between orders with discounted products than those without.\n",
    "<br>Ha = There is a significant difference in revenue between discounted and non-discounted orders."
   ]
  },
  {
   "cell_type": "code",
   "execution_count": 19,
   "metadata": {},
   "outputs": [
    {
     "name": "stdout",
     "output_type": "stream",
     "text": [
      "<class 'pandas.core.frame.DataFrame'>\n",
      "RangeIndex: 2155 entries, 0 to 2154\n",
      "Data columns (total 6 columns):\n",
      "Id           2155 non-null object\n",
      "OrderId      2155 non-null int64\n",
      "ProductId    2155 non-null int64\n",
      "UnitPrice    2155 non-null float64\n",
      "Quantity     2155 non-null int64\n",
      "Discount     2155 non-null float64\n",
      "dtypes: float64(2), int64(3), object(1)\n",
      "memory usage: 101.1+ KB\n"
     ]
    },
    {
     "data": {
      "text/html": [
       "<div>\n",
       "<style scoped>\n",
       "    .dataframe tbody tr th:only-of-type {\n",
       "        vertical-align: middle;\n",
       "    }\n",
       "\n",
       "    .dataframe tbody tr th {\n",
       "        vertical-align: top;\n",
       "    }\n",
       "\n",
       "    .dataframe thead th {\n",
       "        text-align: right;\n",
       "    }\n",
       "</style>\n",
       "<table border=\"1\" class=\"dataframe\">\n",
       "  <thead>\n",
       "    <tr style=\"text-align: right;\">\n",
       "      <th></th>\n",
       "      <th>Id</th>\n",
       "      <th>OrderId</th>\n",
       "      <th>ProductId</th>\n",
       "      <th>UnitPrice</th>\n",
       "      <th>Quantity</th>\n",
       "      <th>Discount</th>\n",
       "    </tr>\n",
       "  </thead>\n",
       "  <tbody>\n",
       "    <tr>\n",
       "      <td>0</td>\n",
       "      <td>10248/11</td>\n",
       "      <td>10248</td>\n",
       "      <td>11</td>\n",
       "      <td>14.0</td>\n",
       "      <td>12</td>\n",
       "      <td>0.0</td>\n",
       "    </tr>\n",
       "    <tr>\n",
       "      <td>1</td>\n",
       "      <td>10248/42</td>\n",
       "      <td>10248</td>\n",
       "      <td>42</td>\n",
       "      <td>9.8</td>\n",
       "      <td>10</td>\n",
       "      <td>0.0</td>\n",
       "    </tr>\n",
       "    <tr>\n",
       "      <td>2</td>\n",
       "      <td>10248/72</td>\n",
       "      <td>10248</td>\n",
       "      <td>72</td>\n",
       "      <td>34.8</td>\n",
       "      <td>5</td>\n",
       "      <td>0.0</td>\n",
       "    </tr>\n",
       "    <tr>\n",
       "      <td>3</td>\n",
       "      <td>10249/14</td>\n",
       "      <td>10249</td>\n",
       "      <td>14</td>\n",
       "      <td>18.6</td>\n",
       "      <td>9</td>\n",
       "      <td>0.0</td>\n",
       "    </tr>\n",
       "    <tr>\n",
       "      <td>4</td>\n",
       "      <td>10249/51</td>\n",
       "      <td>10249</td>\n",
       "      <td>51</td>\n",
       "      <td>42.4</td>\n",
       "      <td>40</td>\n",
       "      <td>0.0</td>\n",
       "    </tr>\n",
       "  </tbody>\n",
       "</table>\n",
       "</div>"
      ],
      "text/plain": [
       "         Id  OrderId  ProductId  UnitPrice  Quantity  Discount\n",
       "0  10248/11    10248         11       14.0        12       0.0\n",
       "1  10248/42    10248         42        9.8        10       0.0\n",
       "2  10248/72    10248         72       34.8         5       0.0\n",
       "3  10249/14    10249         14       18.6         9       0.0\n",
       "4  10249/51    10249         51       42.4        40       0.0"
      ]
     },
     "execution_count": 19,
     "metadata": {},
     "output_type": "execute_result"
    }
   ],
   "source": [
    "# Select relevant data\n",
    "cur.execute(\"\"\"\n",
    "    SELECT  *\n",
    "    FROM OrderDetail;\n",
    "    \"\"\")\n",
    "\n",
    "df = pd.DataFrame(cur.fetchall()) \n",
    "df.columns = [x[0] for x in cur.description] \n",
    "df.info()\n",
    "df.head()"
   ]
  },
  {
   "cell_type": "code",
   "execution_count": 20,
   "metadata": {},
   "outputs": [],
   "source": [
    "# Calculte revenue per item ordered and then only including relevant columns\n",
    "df['Revenue'] = df.UnitPrice * df.Quantity * (1-df.Discount)\n",
    "df_revenue = df[['OrderId', 'Revenue', 'Discount']]"
   ]
  },
  {
   "cell_type": "code",
   "execution_count": 21,
   "metadata": {},
   "outputs": [
    {
     "name": "stdout",
     "output_type": "stream",
     "text": [
      "<class 'pandas.core.frame.DataFrame'>\n",
      "Int64Index: 830 entries, 10248 to 11077\n",
      "Data columns (total 2 columns):\n",
      "Revenue     830 non-null float64\n",
      "Discount    830 non-null float64\n",
      "dtypes: float64(2)\n",
      "memory usage: 19.5 KB\n"
     ]
    }
   ],
   "source": [
    "# Narrow the dataframe further by grouping revenue per order\n",
    "df_grouped = df_revenue.groupby(['OrderId']).sum()\n",
    "df_grouped.info()"
   ]
  },
  {
   "cell_type": "code",
   "execution_count": 26,
   "metadata": {},
   "outputs": [
    {
     "name": "stdout",
     "output_type": "stream",
     "text": [
      "<class 'pandas.core.frame.DataFrame'>\n",
      "Int64Index: 380 entries, 10250 to 11077\n",
      "Data columns (total 1 columns):\n",
      "Revenue    380 non-null float64\n",
      "dtypes: float64(1)\n",
      "memory usage: 5.9 KB\n",
      "<class 'pandas.core.frame.DataFrame'>\n",
      "Int64Index: 450 entries, 10248 to 11073\n",
      "Data columns (total 1 columns):\n",
      "Revenue    450 non-null float64\n",
      "dtypes: float64(1)\n",
      "memory usage: 7.0 KB\n",
      "\n",
      " Variance - with discount: [3581360.050587769] \n",
      " Variance - no discount: [3214064.5144391293]\n"
     ]
    }
   ],
   "source": [
    "# Split the groups into discounted and nondiscounted samples\n",
    "\n",
    "df_rev_w_disc = df_grouped.loc[df_grouped['Discount'] > 0, ['Revenue']]\n",
    "df_rev_wo_disc = df_grouped.loc[df_grouped['Discount'] == 0, ['Revenue']]\n",
    "df_rev_w_disc.info()\n",
    "df_rev_wo_disc.info()\n",
    "print('\\n', 'Variance - with discount:',df_rev_w_disc.var().tolist(), '\\n Variance - no discount:',\n",
    "      df_rev_wo_disc.var().tolist())"
   ]
  },
  {
   "cell_type": "code",
   "execution_count": 27,
   "metadata": {},
   "outputs": [
    {
     "data": {
      "image/png": "[encoded data removed]",
      "text/plain": [
       "<Figure size 864x432 with 1 Axes>"
      ]
     },
     "metadata": {
      "needs_background": "light"
     },
     "output_type": "display_data"
    }
   ],
   "source": [
    "#Review distributions of each sample:\n",
    "fig, ax = plt.subplots(figsize=(12,6))\n",
    "sns.distplot(df_rev_w_disc, color='r', label=\"Revenue w Discounts\", ax=ax) \n",
    "sns.distplot(df_rev_wo_disc, color = 'b', label = \"Revenue w/o Discounts\")\n",
    "plt.title('Distributions of Revenues Per Order With and Without Discounts')\n",
    "plt.legend() \n",
    "plt.show() "
   ]
  },
  {
   "cell_type": "markdown",
   "metadata": {},
   "source": [
    "The two samples have 380 and 450 observations, respectively, with somewhat similar variances of 3.58e+06 and 3.21e+06.  The distributions are strongly skewed to the right, but the sample sizes are large enough that a  Welch's T-test would be an appropriate hypothesis test for these samples.  "
   ]
  },
  {
   "cell_type": "code",
   "execution_count": 28,
   "metadata": {},
   "outputs": [],
   "source": [
    "# Calculate means and perform two-sided T-test \n",
    "\n",
    "mean_w_disc = (df_rev_w_disc.mean()).tolist()\n",
    "mean_wo_disc = (df_rev_wo_disc.mean()).tolist()\n",
    "disc_p_val = (p_value(df_rev_w_disc, df_rev_wo_disc,True)).tolist()"
   ]
  },
  {
   "cell_type": "code",
   "execution_count": 30,
   "metadata": {},
   "outputs": [
    {
     "name": "stdout",
     "output_type": "stream",
     "text": [
      "Average Revenue Per Order WITH Discounts is $1702.35 and without discounts is $1375.33. \n",
      "This difference is statistically significant because the P-value is 0.01125, which is below the alpha, \n",
      "allowing us to REJECT the null hypothesis (there is a significant relationship between discounts and quantity ordered.\n"
     ]
    }
   ],
   "source": [
    "print('Average Revenue Per Order WITH Discounts is ${} and without discounts is ${}. \\nThis difference is \\\n",
    "statistically significant because the P-value is {}, which is below the alpha, \\nallowing us to REJECT \\\n",
    "the null hypothesis (there is a significant relationship between discounts and quantity ordered.'\n",
    "      .format(round(mean_w_disc[0],2), round(mean_wo_disc[0],2), round(disc_p_val[0],5)))"
   ]
  },
  {
   "cell_type": "markdown",
   "metadata": {},
   "source": [
    "## Question 3: Do customers who order discounted items have a statistically significant higher re-order rate than customers who do not order discounted items?"
   ]
  },
  {
   "cell_type": "markdown",
   "metadata": {},
   "source": [
    "This question will examine whether customers with applied discounts order more than customers who do not have discounts applied.  \n",
    "\n",
    "Ho = There is no significant difference in the number of orders from customers who have discounts applied.\n",
    "<br>Ha = There is a significant difference in the number of orders from customers who have discounts applied."
   ]
  },
  {
   "cell_type": "code",
   "execution_count": 31,
   "metadata": {},
   "outputs": [
    {
     "name": "stdout",
     "output_type": "stream",
     "text": [
      "<class 'pandas.core.frame.DataFrame'>\n",
      "RangeIndex: 830 entries, 0 to 829\n",
      "Data columns (total 2 columns):\n",
      "CustomerId    830 non-null object\n",
      "Discount      830 non-null float64\n",
      "dtypes: float64(1), object(1)\n",
      "memory usage: 13.1+ KB\n"
     ]
    },
    {
     "data": {
      "text/html": [
       "<div>\n",
       "<style scoped>\n",
       "    .dataframe tbody tr th:only-of-type {\n",
       "        vertical-align: middle;\n",
       "    }\n",
       "\n",
       "    .dataframe tbody tr th {\n",
       "        vertical-align: top;\n",
       "    }\n",
       "\n",
       "    .dataframe thead th {\n",
       "        text-align: right;\n",
       "    }\n",
       "</style>\n",
       "<table border=\"1\" class=\"dataframe\">\n",
       "  <thead>\n",
       "    <tr style=\"text-align: right;\">\n",
       "      <th></th>\n",
       "      <th>CustomerId</th>\n",
       "      <th>Discount</th>\n",
       "    </tr>\n",
       "  </thead>\n",
       "  <tbody>\n",
       "    <tr>\n",
       "      <td>0</td>\n",
       "      <td>ALFKI</td>\n",
       "      <td>0.25</td>\n",
       "    </tr>\n",
       "    <tr>\n",
       "      <td>1</td>\n",
       "      <td>ALFKI</td>\n",
       "      <td>0.00</td>\n",
       "    </tr>\n",
       "    <tr>\n",
       "      <td>2</td>\n",
       "      <td>ALFKI</td>\n",
       "      <td>0.00</td>\n",
       "    </tr>\n",
       "    <tr>\n",
       "      <td>3</td>\n",
       "      <td>ALFKI</td>\n",
       "      <td>0.00</td>\n",
       "    </tr>\n",
       "    <tr>\n",
       "      <td>4</td>\n",
       "      <td>ALFKI</td>\n",
       "      <td>0.05</td>\n",
       "    </tr>\n",
       "  </tbody>\n",
       "</table>\n",
       "</div>"
      ],
      "text/plain": [
       "  CustomerId  Discount\n",
       "0      ALFKI      0.25\n",
       "1      ALFKI      0.00\n",
       "2      ALFKI      0.00\n",
       "3      ALFKI      0.00\n",
       "4      ALFKI      0.05"
      ]
     },
     "execution_count": 31,
     "metadata": {},
     "output_type": "execute_result"
    }
   ],
   "source": [
    "# Select relevant data\n",
    "cur.execute(\"\"\"\n",
    "    SELECT o.CustomerId, od.Discount\n",
    "    FROM \"Order\" o\n",
    "    JOIN OrderDetail od\n",
    "    ON o.Id = od.OrderId\n",
    "    GROUP BY (OrderID)\n",
    "    ORDER BY (CustomerId)\n",
    "    ;\n",
    "    \"\"\")\n",
    "\n",
    "df = pd.DataFrame(cur.fetchall()) \n",
    "df.columns = [x[0] for x in cur.description] \n",
    "df.info()\n",
    "df.head(5)"
   ]
  },
  {
   "cell_type": "code",
   "execution_count": 32,
   "metadata": {},
   "outputs": [
    {
     "data": {
      "text/html": [
       "<div>\n",
       "<style scoped>\n",
       "    .dataframe tbody tr th:only-of-type {\n",
       "        vertical-align: middle;\n",
       "    }\n",
       "\n",
       "    .dataframe tbody tr th {\n",
       "        vertical-align: top;\n",
       "    }\n",
       "\n",
       "    .dataframe thead th {\n",
       "        text-align: right;\n",
       "    }\n",
       "</style>\n",
       "<table border=\"1\" class=\"dataframe\">\n",
       "  <thead>\n",
       "    <tr style=\"text-align: right;\">\n",
       "      <th></th>\n",
       "      <th>CustomerId</th>\n",
       "      <th>Discount</th>\n",
       "      <th>N_Orders</th>\n",
       "    </tr>\n",
       "  </thead>\n",
       "  <tbody>\n",
       "    <tr>\n",
       "      <td>0</td>\n",
       "      <td>ALFKI</td>\n",
       "      <td>0.25</td>\n",
       "      <td>6</td>\n",
       "    </tr>\n",
       "    <tr>\n",
       "      <td>1</td>\n",
       "      <td>ALFKI</td>\n",
       "      <td>0.00</td>\n",
       "      <td>6</td>\n",
       "    </tr>\n",
       "    <tr>\n",
       "      <td>2</td>\n",
       "      <td>ALFKI</td>\n",
       "      <td>0.00</td>\n",
       "      <td>6</td>\n",
       "    </tr>\n",
       "    <tr>\n",
       "      <td>3</td>\n",
       "      <td>ALFKI</td>\n",
       "      <td>0.00</td>\n",
       "      <td>6</td>\n",
       "    </tr>\n",
       "    <tr>\n",
       "      <td>4</td>\n",
       "      <td>ALFKI</td>\n",
       "      <td>0.05</td>\n",
       "      <td>6</td>\n",
       "    </tr>\n",
       "  </tbody>\n",
       "</table>\n",
       "</div>"
      ],
      "text/plain": [
       "  CustomerId  Discount  N_Orders\n",
       "0      ALFKI      0.25         6\n",
       "1      ALFKI      0.00         6\n",
       "2      ALFKI      0.00         6\n",
       "3      ALFKI      0.00         6\n",
       "4      ALFKI      0.05         6"
      ]
     },
     "execution_count": 32,
     "metadata": {},
     "output_type": "execute_result"
    }
   ],
   "source": [
    "# Count number of orders for each customer ID\n",
    "df['N_Orders'] = df['CustomerId'].map(df['CustomerId'].value_counts())\n",
    "df.head()"
   ]
  },
  {
   "cell_type": "code",
   "execution_count": 33,
   "metadata": {},
   "outputs": [
    {
     "data": {
      "text/html": [
       "<div>\n",
       "<style scoped>\n",
       "    .dataframe tbody tr th:only-of-type {\n",
       "        vertical-align: middle;\n",
       "    }\n",
       "\n",
       "    .dataframe tbody tr th {\n",
       "        vertical-align: top;\n",
       "    }\n",
       "\n",
       "    .dataframe thead th {\n",
       "        text-align: right;\n",
       "    }\n",
       "</style>\n",
       "<table border=\"1\" class=\"dataframe\">\n",
       "  <thead>\n",
       "    <tr style=\"text-align: right;\">\n",
       "      <th></th>\n",
       "      <th>CustomerId</th>\n",
       "      <th>N_Orders</th>\n",
       "      <th>Discount</th>\n",
       "    </tr>\n",
       "  </thead>\n",
       "  <tbody>\n",
       "    <tr>\n",
       "      <td>0</td>\n",
       "      <td>ALFKI</td>\n",
       "      <td>6</td>\n",
       "      <td>0.35</td>\n",
       "    </tr>\n",
       "    <tr>\n",
       "      <td>1</td>\n",
       "      <td>ANATR</td>\n",
       "      <td>4</td>\n",
       "      <td>0.00</td>\n",
       "    </tr>\n",
       "    <tr>\n",
       "      <td>2</td>\n",
       "      <td>ANTO</td>\n",
       "      <td>7</td>\n",
       "      <td>0.40</td>\n",
       "    </tr>\n",
       "    <tr>\n",
       "      <td>3</td>\n",
       "      <td>AROUT</td>\n",
       "      <td>13</td>\n",
       "      <td>0.40</td>\n",
       "    </tr>\n",
       "    <tr>\n",
       "      <td>4</td>\n",
       "      <td>BERGS</td>\n",
       "      <td>18</td>\n",
       "      <td>0.90</td>\n",
       "    </tr>\n",
       "  </tbody>\n",
       "</table>\n",
       "</div>"
      ],
      "text/plain": [
       "  CustomerId  N_Orders  Discount\n",
       "0      ALFKI         6      0.35\n",
       "1      ANATR         4      0.00\n",
       "2       ANTO         7      0.40\n",
       "3      AROUT        13      0.40\n",
       "4      BERGS        18      0.90"
      ]
     },
     "execution_count": 33,
     "metadata": {},
     "output_type": "execute_result"
    }
   ],
   "source": [
    "# Consolidate multiple rows of each order ID, showing which received discounts\n",
    "df2 = df.groupby(['CustomerId','N_Orders'], as_index=False)['Discount'].sum()\n",
    "df2.head()"
   ]
  },
  {
   "cell_type": "code",
   "execution_count": 34,
   "metadata": {},
   "outputs": [
    {
     "data": {
      "image/png": "[encoded data removed]",
      "text/plain": [
       "<Figure size 864x432 with 1 Axes>"
      ]
     },
     "metadata": {
      "needs_background": "light"
     },
     "output_type": "display_data"
    }
   ],
   "source": [
    "# Divide the sample into discounts and no-discounts, then review histograms\n",
    "\n",
    "df2_nodiscounts = df2.loc[df2['Discount'] == 0.0, ['N_Orders']] \n",
    "df2_discounts = df2.loc[df2['Discount'] > 0.0, ['N_Orders']] \n",
    "\n",
    "#Review distributions of each sample:\n",
    "fig, ax = plt.subplots(figsize=(12,6))\n",
    "sns.distplot(df2_discounts, color='r', label=\"Orders Per Customer w Discounts\", ax=ax) \n",
    "sns.distplot(df2_nodiscounts, color = 'b', label = \"Orders Per Customer w/o Discounts\")\n",
    "plt.title('Cumulative Orders Per Customer With and Without Discounts')\n",
    "plt.legend() \n",
    "plt.show() "
   ]
  },
  {
   "cell_type": "code",
   "execution_count": 35,
   "metadata": {},
   "outputs": [
    {
     "name": "stdout",
     "output_type": "stream",
     "text": [
      "\n",
      " Orders with Discounts, Variance: [33.14220824598183] N Observations: 54 \n",
      " Variance, Orders with No Discounts: [4.82016806722689] N Observations: 35\n"
     ]
    }
   ],
   "source": [
    "print('\\n','Orders with Discounts, Variance:',df2_discounts.var().tolist(), 'N Observations:',len(df2_discounts),\n",
    "      '\\n Variance, Orders with No Discounts:',df2_nodiscounts.var().tolist(), 'N Observations:',len(df2_nodiscounts))"
   ]
  },
  {
   "cell_type": "markdown",
   "metadata": {},
   "source": [
    "Considering the differing variances and number of observations, Welch's T-Test would be appropriate to test this hypothesis. "
   ]
  },
  {
   "cell_type": "code",
   "execution_count": 36,
   "metadata": {},
   "outputs": [
    {
     "data": {
      "text/plain": [
       "12.09"
      ]
     },
     "execution_count": 36,
     "metadata": {},
     "output_type": "execute_result"
    }
   ],
   "source": [
    "# Calculate means and perform two-sided T-test \n",
    "\n",
    "mean_w_disc = (df2_discounts.N_Orders.mean()).tolist()\n",
    "mean_wo_disc = (df2_nodiscounts.N_Orders.mean()).tolist()\n",
    "disc_p_val = (p_value(df2_discounts.N_Orders, df2_nodiscounts.N_Orders,True)).tolist()\n",
    "round(mean_w_disc,2)"
   ]
  },
  {
   "cell_type": "code",
   "execution_count": 37,
   "metadata": {},
   "outputs": [
    {
     "name": "stdout",
     "output_type": "stream",
     "text": [
      "The Average number of orders for customers who have discounts applied is 12.09 orders.     \n",
      "The average numer of rders for customers who do NOT have discounts applied is 5.06 orders.     \n",
      "This difference is statistically significant because the P-value is 8.04334377e-12, which is below the alpha,     \n",
      "allowing us to REJECT the null hypothesis and conclude that there is a significant relationship     \n",
      "between discounts applied and the number of orders per customer.\n"
     ]
    }
   ],
   "source": [
    "print('The Average number of orders for customers who have discounts applied is {} orders. \\\n",
    "    \\nThe average numer of rders for customers who do NOT have discounts applied is {} orders. \\\n",
    "    \\nThis difference is statistically significant because the P-value is {}, which is below the alpha, \\\n",
    "    \\nallowing us to REJECT the null hypothesis and conclude that there is a significant relationship \\\n",
    "    \\nbetween discounts applied and the number of orders per customer.'\n",
    "      .format(round(mean_w_disc,2), round(mean_wo_disc,2), round(disc_p_val,20)))"
   ]
  },
  {
   "cell_type": "markdown",
   "metadata": {},
   "source": [
    "It should be noted that this result is merely corralative; it does not imply that discounts cause additional orders.  Additional work would be needed to determine this."
   ]
  },
  {
   "cell_type": "markdown",
   "metadata": {},
   "source": [
    "## Question 4: "
   ]
  },
  {
   "cell_type": "code",
   "execution_count": null,
   "metadata": {},
   "outputs": [],
   "source": []
  },
  {
   "cell_type": "code",
   "execution_count": null,
   "metadata": {},
   "outputs": [],
   "source": []
  },
  {
   "cell_type": "code",
   "execution_count": null,
   "metadata": {},
   "outputs": [],
   "source": []
  }
 ],
 "metadata": {
  "kernelspec": {
   "display_name": "learn-env",
   "language": "python",
   "name": "learn-env"
  },
  "language_info": {
   "codemirror_mode": {
    "name": "ipython",
    "version": 3
   },
   "file_extension": ".py",
   "mimetype": "text/x-python",
   "name": "python",
   "nbconvert_exporter": "python",
   "pygments_lexer": "ipython3",
   "version": "3.6.9"
  }
 },
 "nbformat": 4,
 "nbformat_minor": 2
}
